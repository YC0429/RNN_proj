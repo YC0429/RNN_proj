{
  "nbformat": 4,
  "nbformat_minor": 0,
  "metadata": {
    "kernelspec": {
      "name": "python3",
      "display_name": "Python 3"
    },
    "colab": {
      "name": "RNN_stock_prediction_lstm_proj2.ipynb",
      "provenance": [],
      "collapsed_sections": []
    },
    "accelerator": "GPU"
  },
  "cells": [
    {
      "cell_type": "markdown",
      "metadata": {
        "id": "vGbT1dgk2h0D"
      },
      "source": [
        "# Stock Prediction RNN \n",
        "\n",
        "In this project, I perform a time series prediction using a Recurrent Neural Network regressor. For this example, I will predict Apple's stock price 7 days in advance.\n",
        "\n",
        "The particular network architecture I will employ for my RNN is a  [Long Term Short Memory (LTSM)](https://en.wikipedia.org/wiki/Long_short-term_memory), which helps significantly avoid technical problems with optimization of RNNs."
      ]
    },
    {
      "cell_type": "markdown",
      "metadata": {
        "id": "vwPba0Jg2bSX"
      },
      "source": [
        "# Pytorch LSTM Stock Predictor\n",
        "\n",
        "This is a Pytorch version of the original Keras LSTM Stock Predictor provided by [Super DataScience](https://www.superdatascience.com/deep-learning/), and also available elsewhere in this repo as a notebook."
      ]
    },
    {
      "cell_type": "markdown",
      "metadata": {
        "id": "boG82OJt2n4g"
      },
      "source": [
        "## Step 1: Loading the data\n",
        "\n",
        "First let's load in our time series - a history of around 140 days of Apple's stock price. Then we need to perform a number of pre-processing steps to prepare it for use with an RNN model.  First off, it is good practice to normalize time series - by normalizing its range.  This helps us avoid serious numerical issues associated how common activation functions (like tanh) transform very large (positive or negative) numbers, as well as helping us to avoid related issues when computing derivatives.\n",
        "\n",
        "Here we normalize the series to lie in the range [0,1] [using this scikit function](http://scikit-learn.org/stable/modules/generated/sklearn.preprocessing.MinMaxScaler.html)."
      ]
    },
    {
      "cell_type": "code",
      "metadata": {
        "id": "6k-jrLoP20Fm",
        "colab": {
          "base_uri": "https://localhost:8080/"
        },
        "outputId": "8f5b4bfb-5359-4989-9cda-ed3d8cd7f386"
      },
      "source": [
        "# download the data\n",
        "!wget https://raw.githubusercontent.com/tonylaioffer/stock-prediction-lstm-using-keras/master/data/sandp500/all_stocks_5yr.csv"
      ],
      "execution_count": 1,
      "outputs": [
        {
          "output_type": "stream",
          "name": "stdout",
          "text": [
            "--2022-03-25 16:21:35--  https://raw.githubusercontent.com/tonylaioffer/stock-prediction-lstm-using-keras/master/data/sandp500/all_stocks_5yr.csv\n",
            "Resolving raw.githubusercontent.com (raw.githubusercontent.com)... 185.199.109.133, 185.199.110.133, 185.199.111.133, ...\n",
            "Connecting to raw.githubusercontent.com (raw.githubusercontent.com)|185.199.109.133|:443... connected.\n",
            "HTTP request sent, awaiting response... 200 OK\n",
            "Length: 29580549 (28M) [text/plain]\n",
            "Saving to: ‘all_stocks_5yr.csv’\n",
            "\n",
            "all_stocks_5yr.csv  100%[===================>]  28.21M   180MB/s    in 0.2s    \n",
            "\n",
            "2022-03-25 16:21:37 (180 MB/s) - ‘all_stocks_5yr.csv’ saved [29580549/29580549]\n",
            "\n"
          ]
        }
      ]
    },
    {
      "cell_type": "code",
      "metadata": {
        "id": "3-8wHDYS28-m",
        "colab": {
          "base_uri": "https://localhost:8080/"
        },
        "outputId": "1b04e890-1117-46b9-ea95-050241846703"
      },
      "source": [
        "!ls ."
      ],
      "execution_count": 2,
      "outputs": [
        {
          "output_type": "stream",
          "name": "stdout",
          "text": [
            "all_stocks_5yr.csv  sample_data\n"
          ]
        }
      ]
    },
    {
      "cell_type": "code",
      "metadata": {
        "id": "lC_2yxKR2bSe"
      },
      "source": [
        "import numpy as np\n",
        "import pandas as pd\n",
        "import matplotlib.pyplot as plt\n",
        "\n",
        "import torch.nn as nn\n",
        "import torch\n",
        "from torch.autograd import Variable\n",
        "from torch.utils.data import Dataset, DataLoader"
      ],
      "execution_count": 3,
      "outputs": []
    },
    {
      "cell_type": "code",
      "metadata": {
        "id": "BvFrixdV2bSw"
      },
      "source": [
        "# Importing the training set\n",
        "dataset = data = pd.read_csv('./all_stocks_5yr.csv')\n",
        "dataset_cl = dataset[dataset['Name']=='SWKS'].close.values\n",
        "\n",
        "# dataset_train = pd.read_csv('Google_Stock_Price_Train.csv')\n",
        "# training_set = dataset_train.iloc[:, 1:2].values"
      ],
      "execution_count": 4,
      "outputs": []
    },
    {
      "cell_type": "code",
      "metadata": {
        "id": "XFvN25Yj3w9r"
      },
      "source": [
        "# Feature Scaling\n",
        "from sklearn.preprocessing import MinMaxScaler\n",
        "\n",
        "sc = MinMaxScaler(feature_range = (0, 1))\n",
        "\n",
        "# scale the data\n",
        "dataset_cl = dataset_cl.reshape(dataset_cl.shape[0], 1)\n",
        "dataset_cl = sc.fit_transform(dataset_cl)"
      ],
      "execution_count": 5,
      "outputs": []
    },
    {
      "cell_type": "markdown",
      "metadata": {
        "id": "UURKEshg3g0G"
      },
      "source": [
        "## Step 2:  Cutting our time series into sequences\n",
        "\n",
        "Remember, our time series is a sequence of numbers that we can represent in general mathematically as \n",
        "\n",
        "$$s_{0},s_{1},s_{2},...,s_{P}$$\n",
        "\n",
        "where $s_{p}$ is the numerical value of the time series at time period $p$ and where $P$ is the total length of the series.  In order to apply our RNN we treat the time series prediction problem as a regression problem, and so need to use a sliding window to construct a set of associated input/output pairs to regress on.  This process is animated in the gif below.\n",
        "\n",
        "<img src=\"https://github.com/tonylaioffer/stock-prediction-lstm-using-keras/raw/master/images/timeseries_windowing_training.gif\" width=600 height=288/>\n",
        "\n",
        "For example - using a window of size T = 5 (as illustrated in the gif above) we produce a set of input/output pairs like the one shown in the table below\n",
        "\n",
        "$$\\begin{array}{c|c}\n",
        "\\text{Input} & \\text{Output}\\\\\n",
        "\\hline \\color{CornflowerBlue} {\\langle s_{1},s_{2},s_{3},s_{4},s_{5}\\rangle} & \\color{Goldenrod}{ s_{6}} \\\\\n",
        "\\ \\color{CornflowerBlue} {\\langle s_{2},s_{3},s_{4},s_{5},s_{6} \\rangle } & \\color{Goldenrod} {s_{7} } \\\\\n",
        "\\color{CornflowerBlue}  {\\vdots} & \\color{Goldenrod} {\\vdots}\\\\\n",
        "\\color{CornflowerBlue} { \\langle s_{P-5},s_{P-4},s_{P-3},s_{P-2},s_{P-1} \\rangle } & \\color{Goldenrod} {s_{P}}\n",
        "\\end{array}$$\n",
        "\n",
        "Notice here that each input is a sequence (or vector) of length 4 (and in general has length equal to the window size T) while each corresponding output is a scalar value.  Notice also how given a time series of length P and window size T = 5 as shown above, we created P - 5  input/output pairs.  More generally, for a window size T we create P - T such pairs.\n",
        "\n",
        "Now let's window the input time series as described above!  "
      ]
    },
    {
      "cell_type": "code",
      "metadata": {
        "id": "pvBLqRvm4L6k"
      },
      "source": [
        "#Create a function to process the data into 7 day look back slices\n",
        "def processData(data, lb):\n",
        "    X, Y = [], []\n",
        "    for i in range(len(data) - lb - 1):\n",
        "        X.append(data[i: (i + lb), 0])\n",
        "        Y.append(data[(i + lb), 0])\n",
        "    return np.array(X), np.array(Y)\n",
        "X, y = processData(dataset_cl, 7)\n"
      ],
      "execution_count": 6,
      "outputs": []
    },
    {
      "cell_type": "markdown",
      "metadata": {
        "id": "yHsQGQ_V42G0"
      },
      "source": [
        "## Step 3: Split training and testing sets\n",
        "\n",
        "In order to perform proper testing on our dataset we will lop off the last 1/3 of it for validation (or testing).  \n",
        "\n",
        "Note how here we are **not** splitting the dataset *randomly* as one typically would do when validating a regression model.  This is because our input/output pairs *are related temporally*.   We don't want to validate our model by training on a random subset of the series and then testing on another random subset, as this simulates the scenario that we receive new points *within the timeframe of our training set*.  \n",
        "\n",
        "We want to train on one solid chunk of the series (in our case, the first full 2/3 of it), and validate on a later chunk (the last 1/3) as this simulates how we would predict *future* values of a time series."
      ]
    },
    {
      "cell_type": "code",
      "metadata": {
        "id": "syFXDlpn45xA",
        "colab": {
          "base_uri": "https://localhost:8080/"
        },
        "outputId": "c7364188-fc71-4df6-caaf-c9c3ffc61fe4"
      },
      "source": [
        "X_train, X_test = X[:int(X.shape[0]*0.80)],X[int(X.shape[0]*0.80):]\n",
        "y_train, y_test = y[:int(y.shape[0]*0.80)],y[int(y.shape[0]*0.80):]\n",
        "print(X_train.shape[0])\n",
        "print(X_test.shape[0])\n",
        "print(y_train.shape[0])\n",
        "print(y_test.shape[0])\n",
        "\n",
        "# reshaping\n",
        "X_train = np.reshape(X_train, (X_train.shape[0], 1, X_train.shape[1]))\n",
        "X_test = np.reshape(X_test, (X_test.shape[0], 1, X_test.shape[1]))"
      ],
      "execution_count": 7,
      "outputs": [
        {
          "output_type": "stream",
          "name": "stdout",
          "text": [
            "1000\n",
            "251\n",
            "1000\n",
            "251\n"
          ]
        }
      ]
    },
    {
      "cell_type": "code",
      "metadata": {
        "id": "oPfVnOcm2bTF"
      },
      "source": [
        "# Reshaping\n",
        "# X_train = np.reshape(X_train, (X_train.shape[0], 1, X_train.shape[1]))"
      ],
      "execution_count": null,
      "outputs": []
    },
    {
      "cell_type": "markdown",
      "metadata": {
        "id": "GMXggue15R41"
      },
      "source": [
        "## Step 4:  Build and run an RNN regression model\n",
        "\n",
        "Having created input/output pairs out of our time series and cut this into training/testing sets, we can now begin setting up our RNN.  We use Keras to quickly build a two hidden layer RNN of the following specifications\n",
        "\n",
        "- layer 1 uses an LSTM module with 5 hidden units (note here the input_shape = (window_size,1))\n",
        "- layer 2 uses a fully connected module with one unit\n",
        "- the 'mean_squared_error' loss should be used"
      ]
    },
    {
      "cell_type": "code",
      "metadata": {
        "id": "HNWryPPg2bTM"
      },
      "source": [
        "class RNN(nn.Module):\n",
        "    def __init__(self, i_size, h_size, n_layers, o_size, dropout=0.1, bidirectional=True):\n",
        "        super(RNN, self).__init__()\n",
        "        self.num_directions = bidirectional+1\n",
        "        self.rnn = nn.LSTM(\n",
        "            input_size=i_size,\n",
        "            hidden_size=h_size,\n",
        "            num_layers=n_layers,\n",
        "            dropout=dropout,\n",
        "            bidirectional=bidirectional\n",
        "        )\n",
        "        self.out = nn.Linear(h_size, o_size)\n",
        "\n",
        "    def forward(self, x, h_state):\n",
        "        r_out, hidden_state = self.rnn(x, h_state)\n",
        "        \n",
        "        hidden_size = hidden_state[-1].size(-1)\n",
        "        r_out = r_out.view(-1, self.num_directions, hidden_size)\n",
        "        outs = self.out(r_out)\n",
        "        \n",
        "        return outs, hidden_state"
      ],
      "execution_count": 8,
      "outputs": []
    },
    {
      "cell_type": "code",
      "metadata": {
        "id": "SwwPpVsK2bTQ"
      },
      "source": [
        "# Globals\n",
        "\n",
        "INPUT_SIZE = 7\n",
        "HIDDEN_SIZE = 64\n",
        "NUM_LAYERS = 3\n",
        "OUTPUT_SIZE = 1\n",
        "BATCH_SIZE = 128\n",
        "# Hyper parameters\n",
        "\n",
        "learning_rate = 0.001\n",
        "num_epochs = 300\n",
        "\n",
        "rnn = RNN(INPUT_SIZE, HIDDEN_SIZE, NUM_LAYERS, OUTPUT_SIZE,bidirectional=False)\n",
        "rnn.cuda()\n",
        "\n",
        "optimizer = torch.optim.Adam(rnn.parameters(), lr=learning_rate)\n",
        "criterion = nn.MSELoss()\n",
        "\n",
        "hidden_state = None"
      ],
      "execution_count": 9,
      "outputs": []
    },
    {
      "cell_type": "code",
      "metadata": {
        "id": "BiQaghDCtNdg",
        "colab": {
          "base_uri": "https://localhost:8080/"
        },
        "outputId": "53bbaac0-ebfd-48e0-cd7b-2dc596bab62b"
      },
      "source": [
        "rnn"
      ],
      "execution_count": 10,
      "outputs": [
        {
          "output_type": "execute_result",
          "data": {
            "text/plain": [
              "RNN(\n",
              "  (rnn): LSTM(7, 64, num_layers=3, dropout=0.1)\n",
              "  (out): Linear(in_features=64, out_features=1, bias=True)\n",
              ")"
            ]
          },
          "metadata": {},
          "execution_count": 10
        }
      ]
    },
    {
      "cell_type": "code",
      "metadata": {
        "id": "olY5dc_sQ345",
        "colab": {
          "base_uri": "https://localhost:8080/",
          "height": 86
        },
        "outputId": "1cc9c432-c58b-4829-e799-513d0c81dbc3"
      },
      "source": [
        "\"\"\"\n",
        "class StockDataset(Dataset):\n",
        "    \n",
        "    def __init__(self, X_dataset, Y_dataset):\n",
        "        \n",
        "        self.X_dataset = torch.from_numpy(X_dataset)\n",
        "        self.Y_dataset = torch.from_numpy(Y_dataset)\n",
        "        \n",
        "    def __len__(self):\n",
        "        return np.shape(self.Y_dataset)[0]\n",
        "\n",
        "    def __getitem__(self, idx):\n",
        "        \n",
        "        sample = {'Sequence': self.X_dataset[:,idx,:], \"Target\": self.Y_dataset[idx]}\n",
        "      \n",
        "\n",
        "        return sample\n",
        "\"\"\""
      ],
      "execution_count": null,
      "outputs": [
        {
          "output_type": "execute_result",
          "data": {
            "application/vnd.google.colaboratory.intrinsic": {
              "type": "string"
            },
            "text/plain": [
              "'\\nclass StockDataset(Dataset):\\n    \\n    def __init__(self, X_dataset, Y_dataset):\\n        \\n        self.X_dataset = torch.from_numpy(X_dataset)\\n        self.Y_dataset = torch.from_numpy(Y_dataset)\\n        \\n    def __len__(self):\\n        return np.shape(self.Y_dataset)[0]\\n\\n    def __getitem__(self, idx):\\n        \\n        sample = {\\'Sequence\\': self.X_dataset[:,idx,:], \"Target\": self.Y_dataset[idx]}\\n      \\n\\n        return sample\\n'"
            ]
          },
          "metadata": {
            "tags": []
          },
          "execution_count": 12
        }
      ]
    },
    {
      "cell_type": "code",
      "metadata": {
        "id": "de3JU38uRp-S"
      },
      "source": [
        "# Train_ds=StockDataset(X_train, y_train)"
      ],
      "execution_count": null,
      "outputs": []
    },
    {
      "cell_type": "code",
      "metadata": {
        "id": "QlRhF5JP2bTX",
        "colab": {
          "base_uri": "https://localhost:8080/"
        },
        "outputId": "deb0dc8a-5a5f-4e3f-e297-42cb15ecf3b8"
      },
      "source": [
        "history = []\n",
        "X_test_cuda = torch.tensor(X_test).float().cuda()\n",
        "y_test_cuda = torch.tensor(y_test).float().cuda()\n",
        "\n",
        "# we use all the data in one batch\n",
        "inputs_cuda = torch.tensor(X_train).float().cuda()\n",
        "labels_cuda = torch.tensor(y_train).float().cuda()\n",
        "\n",
        "for epoch in range(num_epochs):\n",
        "    rnn.train()\n",
        "    output, _ = rnn(inputs_cuda, hidden_state) \n",
        "    # print(output.size())\n",
        "\n",
        "    loss = criterion(output[:,0,:].view(-1), labels_cuda)\n",
        "    optimizer.zero_grad()\n",
        "    loss.backward()                     # back propagation\n",
        "    optimizer.step()                    # update the parameters\n",
        "    \n",
        "    if epoch % 20 == 0:\n",
        "        rnn.eval()\n",
        "        test_output, _ = rnn(X_test_cuda, hidden_state)\n",
        "        test_loss = criterion(test_output.view(-1), y_test_cuda)\n",
        "        print('epoch {}, loss {}, eval loss {}'.format(epoch, loss.item(), test_loss.item()))\n",
        "    else:\n",
        "        print('epoch {}, loss {}'.format(epoch, loss.item()))\n",
        "    history.append(loss.item())"
      ],
      "execution_count": 11,
      "outputs": [
        {
          "output_type": "stream",
          "name": "stdout",
          "text": [
            "epoch 0, loss 0.33454805612564087, eval loss 0.8514983057975769\n",
            "epoch 1, loss 0.3050220012664795\n",
            "epoch 2, loss 0.27664318680763245\n",
            "epoch 3, loss 0.24832938611507416\n",
            "epoch 4, loss 0.22015513479709625\n",
            "epoch 5, loss 0.19112427532672882\n",
            "epoch 6, loss 0.1614643782377243\n",
            "epoch 7, loss 0.1296282559633255\n",
            "epoch 8, loss 0.09696882963180542\n",
            "epoch 9, loss 0.0660334900021553\n",
            "epoch 10, loss 0.04262639209628105\n",
            "epoch 11, loss 0.03941091522574425\n",
            "epoch 12, loss 0.06503809988498688\n",
            "epoch 13, loss 0.07474426925182343\n",
            "epoch 14, loss 0.06461004912853241\n",
            "epoch 15, loss 0.048820771276950836\n",
            "epoch 16, loss 0.037452396005392075\n",
            "epoch 17, loss 0.03430775925517082\n",
            "epoch 18, loss 0.03459302335977554\n",
            "epoch 19, loss 0.036467745900154114\n",
            "epoch 20, loss 0.038892947137355804, eval loss 0.14638251066207886\n",
            "epoch 21, loss 0.03932435065507889\n",
            "epoch 22, loss 0.03907221555709839\n",
            "epoch 23, loss 0.03698297217488289\n",
            "epoch 24, loss 0.03290329873561859\n",
            "epoch 25, loss 0.028467880561947823\n",
            "epoch 26, loss 0.023333758115768433\n",
            "epoch 27, loss 0.019367463886737823\n",
            "epoch 28, loss 0.016764944419264793\n",
            "epoch 29, loss 0.016893168911337852\n",
            "epoch 30, loss 0.018346844241023064\n",
            "epoch 31, loss 0.018901387229561806\n",
            "epoch 32, loss 0.01765110157430172\n",
            "epoch 33, loss 0.014255915768444538\n",
            "epoch 34, loss 0.01066938042640686\n",
            "epoch 35, loss 0.008582205511629581\n",
            "epoch 36, loss 0.008258284069597721\n",
            "epoch 37, loss 0.008716757409274578\n",
            "epoch 38, loss 0.009243521839380264\n",
            "epoch 39, loss 0.008444523438811302\n",
            "epoch 40, loss 0.0074144103564321995, eval loss 0.02120576985180378\n",
            "epoch 41, loss 0.00552191399037838\n",
            "epoch 42, loss 0.004097954835742712\n",
            "epoch 43, loss 0.004135154653340578\n",
            "epoch 44, loss 0.005159212276339531\n",
            "epoch 45, loss 0.005423673894256353\n",
            "epoch 46, loss 0.004781493451446295\n",
            "epoch 47, loss 0.0037352803628891706\n",
            "epoch 48, loss 0.003307108534500003\n",
            "epoch 49, loss 0.0037250290624797344\n",
            "epoch 50, loss 0.004322894848883152\n",
            "epoch 51, loss 0.004291973542422056\n",
            "epoch 52, loss 0.003957212902605534\n",
            "epoch 53, loss 0.003371824510395527\n",
            "epoch 54, loss 0.003425865899771452\n",
            "epoch 55, loss 0.003600294003263116\n",
            "epoch 56, loss 0.003835572861135006\n",
            "epoch 57, loss 0.0034048976376652718\n",
            "epoch 58, loss 0.0033908826299011707\n",
            "epoch 59, loss 0.002971203997731209\n",
            "epoch 60, loss 0.002969240304082632, eval loss 0.01403818279504776\n",
            "epoch 61, loss 0.0030605753418058157\n",
            "epoch 62, loss 0.003295468632131815\n",
            "epoch 63, loss 0.00324284378439188\n",
            "epoch 64, loss 0.002943997038528323\n",
            "epoch 65, loss 0.0026853091549128294\n",
            "epoch 66, loss 0.0026108198799192905\n",
            "epoch 67, loss 0.002744511002674699\n",
            "epoch 68, loss 0.00283420761115849\n",
            "epoch 69, loss 0.002604336943477392\n",
            "epoch 70, loss 0.0027849418111145496\n",
            "epoch 71, loss 0.0026172413490712643\n",
            "epoch 72, loss 0.002456279704347253\n",
            "epoch 73, loss 0.002604883862659335\n",
            "epoch 74, loss 0.0026341236662119627\n",
            "epoch 75, loss 0.002614593831822276\n",
            "epoch 76, loss 0.0025946488603949547\n",
            "epoch 77, loss 0.0025538827758282423\n",
            "epoch 78, loss 0.0023981768172234297\n",
            "epoch 79, loss 0.0024789590388536453\n",
            "epoch 80, loss 0.0025891067925840616, eval loss 0.012764373794198036\n",
            "epoch 81, loss 0.002389409113675356\n",
            "epoch 82, loss 0.00231333845295012\n",
            "epoch 83, loss 0.002474815584719181\n",
            "epoch 84, loss 0.002334778429940343\n",
            "epoch 85, loss 0.002307719783857465\n",
            "epoch 86, loss 0.002444739919155836\n",
            "epoch 87, loss 0.0024500160943716764\n",
            "epoch 88, loss 0.0024924052413553\n",
            "epoch 89, loss 0.0022699928376823664\n",
            "epoch 90, loss 0.00225441693328321\n",
            "epoch 91, loss 0.0023781065829098225\n",
            "epoch 92, loss 0.0021935664117336273\n",
            "epoch 93, loss 0.0023406834807246923\n",
            "epoch 94, loss 0.0021025475580245256\n",
            "epoch 95, loss 0.0024371519684791565\n",
            "epoch 96, loss 0.0022405539639294147\n",
            "epoch 97, loss 0.002126281848177314\n",
            "epoch 98, loss 0.0021227041725069284\n",
            "epoch 99, loss 0.0020712220575660467\n",
            "epoch 100, loss 0.0023025223053991795, eval loss 0.01158551312983036\n",
            "epoch 101, loss 0.0022054226137697697\n",
            "epoch 102, loss 0.0022999984212219715\n",
            "epoch 103, loss 0.0022968805860728025\n",
            "epoch 104, loss 0.0021437278483062983\n",
            "epoch 105, loss 0.00212838570587337\n",
            "epoch 106, loss 0.002158594084903598\n",
            "epoch 107, loss 0.002229563193395734\n",
            "epoch 108, loss 0.002071773400530219\n",
            "epoch 109, loss 0.0019950082059949636\n",
            "epoch 110, loss 0.0020493052434176207\n",
            "epoch 111, loss 0.002071560826152563\n",
            "epoch 112, loss 0.002198129193857312\n",
            "epoch 113, loss 0.002226331038400531\n",
            "epoch 114, loss 0.0021148151718080044\n",
            "epoch 115, loss 0.001990528078749776\n",
            "epoch 116, loss 0.002147797727957368\n",
            "epoch 117, loss 0.002048142720013857\n",
            "epoch 118, loss 0.0021794787608087063\n",
            "epoch 119, loss 0.0022608707658946514\n",
            "epoch 120, loss 0.001993316924199462, eval loss 0.010687627829611301\n",
            "epoch 121, loss 0.002027298090979457\n",
            "epoch 122, loss 0.0020283700432628393\n",
            "epoch 123, loss 0.002094254130497575\n",
            "epoch 124, loss 0.0020543248392641544\n",
            "epoch 125, loss 0.001967150019481778\n",
            "epoch 126, loss 0.002051393501460552\n",
            "epoch 127, loss 0.0020908028818666935\n",
            "epoch 128, loss 0.001976944738999009\n",
            "epoch 129, loss 0.0019305747700855136\n",
            "epoch 130, loss 0.001966466661542654\n",
            "epoch 131, loss 0.0019361781887710094\n",
            "epoch 132, loss 0.0019981751684099436\n",
            "epoch 133, loss 0.0020491958130151033\n",
            "epoch 134, loss 0.0017328932881355286\n",
            "epoch 135, loss 0.0019813079852610826\n",
            "epoch 136, loss 0.001922205789014697\n",
            "epoch 137, loss 0.0019289966439828277\n",
            "epoch 138, loss 0.002028657589107752\n",
            "epoch 139, loss 0.0019188796868547797\n",
            "epoch 140, loss 0.0019078522454947233, eval loss 0.009923870675265789\n",
            "epoch 141, loss 0.001894389744848013\n",
            "epoch 142, loss 0.0019650510512292385\n",
            "epoch 143, loss 0.0018410149496048689\n",
            "epoch 144, loss 0.0019668848253786564\n",
            "epoch 145, loss 0.001796696917153895\n",
            "epoch 146, loss 0.001939057488925755\n",
            "epoch 147, loss 0.001987623516470194\n",
            "epoch 148, loss 0.00189388997387141\n",
            "epoch 149, loss 0.0020825776737183332\n",
            "epoch 150, loss 0.001848225831054151\n",
            "epoch 151, loss 0.0019644431304186583\n",
            "epoch 152, loss 0.0019014269346371293\n",
            "epoch 153, loss 0.0019196027424186468\n",
            "epoch 154, loss 0.001954892883077264\n",
            "epoch 155, loss 0.0017437947681173682\n",
            "epoch 156, loss 0.001805590931326151\n",
            "epoch 157, loss 0.0018290753941982985\n",
            "epoch 158, loss 0.001810100395232439\n",
            "epoch 159, loss 0.0017060637474060059\n",
            "epoch 160, loss 0.0018817062955349684, eval loss 0.009532645344734192\n",
            "epoch 161, loss 0.0017776207532733679\n",
            "epoch 162, loss 0.0017854577163234353\n",
            "epoch 163, loss 0.0018710154108703136\n",
            "epoch 164, loss 0.001670805155299604\n",
            "epoch 165, loss 0.0016323963645845652\n",
            "epoch 166, loss 0.0018286288250237703\n",
            "epoch 167, loss 0.0019296577665954828\n",
            "epoch 168, loss 0.001847754349000752\n",
            "epoch 169, loss 0.0017648381181061268\n",
            "epoch 170, loss 0.0017942986451089382\n",
            "epoch 171, loss 0.0015988013474270701\n",
            "epoch 172, loss 0.0016317954286932945\n",
            "epoch 173, loss 0.0016866863006725907\n",
            "epoch 174, loss 0.0015681989025324583\n",
            "epoch 175, loss 0.0018989233067259192\n",
            "epoch 176, loss 0.0017830947181209922\n",
            "epoch 177, loss 0.001618816051632166\n",
            "epoch 178, loss 0.001741312793456018\n",
            "epoch 179, loss 0.0017484332202002406\n",
            "epoch 180, loss 0.0016824540216475725, eval loss 0.008892407640814781\n",
            "epoch 181, loss 0.0018126019276678562\n",
            "epoch 182, loss 0.001696315361186862\n",
            "epoch 183, loss 0.001809421693906188\n",
            "epoch 184, loss 0.0016212168848142028\n",
            "epoch 185, loss 0.0017258342122659087\n",
            "epoch 186, loss 0.0017155235400423408\n",
            "epoch 187, loss 0.0016676347004249692\n",
            "epoch 188, loss 0.0016502011567354202\n",
            "epoch 189, loss 0.0016684082802385092\n",
            "epoch 190, loss 0.0016673523932695389\n",
            "epoch 191, loss 0.0015942193567752838\n",
            "epoch 192, loss 0.0016612159088253975\n",
            "epoch 193, loss 0.0016536253970116377\n",
            "epoch 194, loss 0.0016478903125971556\n",
            "epoch 195, loss 0.0017323677893728018\n",
            "epoch 196, loss 0.0015674005262553692\n",
            "epoch 197, loss 0.0016318693524226546\n",
            "epoch 198, loss 0.001542558311484754\n",
            "epoch 199, loss 0.0016319539863616228\n",
            "epoch 200, loss 0.0015717471251264215, eval loss 0.008887387812137604\n",
            "epoch 201, loss 0.0014955425867810845\n",
            "epoch 202, loss 0.0016273852670565248\n",
            "epoch 203, loss 0.0015441338764503598\n",
            "epoch 204, loss 0.0017098162788897753\n",
            "epoch 205, loss 0.001589129096828401\n",
            "epoch 206, loss 0.0015432268846780062\n",
            "epoch 207, loss 0.0017418042989447713\n",
            "epoch 208, loss 0.001735229860059917\n",
            "epoch 209, loss 0.0016144117107614875\n",
            "epoch 210, loss 0.00157991424202919\n",
            "epoch 211, loss 0.0015464868629351258\n",
            "epoch 212, loss 0.0014770631678402424\n",
            "epoch 213, loss 0.0014570723287761211\n",
            "epoch 214, loss 0.0016231568297371268\n",
            "epoch 215, loss 0.0016624029958620667\n",
            "epoch 216, loss 0.001429934287443757\n",
            "epoch 217, loss 0.0016304904129356146\n",
            "epoch 218, loss 0.0014249570667743683\n",
            "epoch 219, loss 0.0015269210562109947\n",
            "epoch 220, loss 0.0016280068084597588, eval loss 0.008413354866206646\n",
            "epoch 221, loss 0.0015545052010565996\n",
            "epoch 222, loss 0.0015559355961158872\n",
            "epoch 223, loss 0.0015856021782383323\n",
            "epoch 224, loss 0.0016971357399597764\n",
            "epoch 225, loss 0.0015874620294198394\n",
            "epoch 226, loss 0.0015196297317743301\n",
            "epoch 227, loss 0.0015246036928147078\n",
            "epoch 228, loss 0.0014069521566852927\n",
            "epoch 229, loss 0.0014606614131480455\n",
            "epoch 230, loss 0.0015203465009108186\n",
            "epoch 231, loss 0.0015366669977083802\n",
            "epoch 232, loss 0.0013741255970671773\n",
            "epoch 233, loss 0.0016377218998968601\n",
            "epoch 234, loss 0.0015147656667977571\n",
            "epoch 235, loss 0.0015915888361632824\n",
            "epoch 236, loss 0.0016782603925094008\n",
            "epoch 237, loss 0.0015082734171301126\n",
            "epoch 238, loss 0.00148533727042377\n",
            "epoch 239, loss 0.0014791339635849\n",
            "epoch 240, loss 0.0015400126576423645, eval loss 0.008163673803210258\n",
            "epoch 241, loss 0.0015600917395204306\n",
            "epoch 242, loss 0.0015764487907290459\n",
            "epoch 243, loss 0.0014522784622386098\n",
            "epoch 244, loss 0.0014636587584391236\n",
            "epoch 245, loss 0.0014688927913084626\n",
            "epoch 246, loss 0.0015388060128316283\n",
            "epoch 247, loss 0.001526759471744299\n",
            "epoch 248, loss 0.0016291304491460323\n",
            "epoch 249, loss 0.0015579377068206668\n",
            "epoch 250, loss 0.0015125040663406253\n",
            "epoch 251, loss 0.0016649026656523347\n",
            "epoch 252, loss 0.0015041969018056989\n",
            "epoch 253, loss 0.0014474722556769848\n",
            "epoch 254, loss 0.0015805099392309785\n",
            "epoch 255, loss 0.001434548757970333\n",
            "epoch 256, loss 0.0014847592683508992\n",
            "epoch 257, loss 0.0013778097927570343\n",
            "epoch 258, loss 0.0014485092833638191\n",
            "epoch 259, loss 0.001574321766383946\n",
            "epoch 260, loss 0.001628980040550232, eval loss 0.007879079319536686\n",
            "epoch 261, loss 0.001398890744894743\n",
            "epoch 262, loss 0.001513312803581357\n",
            "epoch 263, loss 0.001424169517122209\n",
            "epoch 264, loss 0.0015069307992234826\n",
            "epoch 265, loss 0.0014556261012330651\n",
            "epoch 266, loss 0.001331236446276307\n",
            "epoch 267, loss 0.0015464113093912601\n",
            "epoch 268, loss 0.0014867304125800729\n",
            "epoch 269, loss 0.0014464608393609524\n",
            "epoch 270, loss 0.0014993177028372884\n",
            "epoch 271, loss 0.0015629823319613934\n",
            "epoch 272, loss 0.0015132094267755747\n",
            "epoch 273, loss 0.001494531286880374\n",
            "epoch 274, loss 0.001459164428524673\n",
            "epoch 275, loss 0.0015394885558634996\n",
            "epoch 276, loss 0.0015558014856651425\n",
            "epoch 277, loss 0.0013925314415246248\n",
            "epoch 278, loss 0.0013682489516213536\n",
            "epoch 279, loss 0.0015153747517615557\n",
            "epoch 280, loss 0.001484099542722106, eval loss 0.0076670097187161446\n",
            "epoch 281, loss 0.001637537032365799\n",
            "epoch 282, loss 0.0013759215362370014\n",
            "epoch 283, loss 0.0014609501231461763\n",
            "epoch 284, loss 0.001364849042147398\n",
            "epoch 285, loss 0.001373790088109672\n",
            "epoch 286, loss 0.0014538320247083902\n",
            "epoch 287, loss 0.001381466630846262\n",
            "epoch 288, loss 0.001523360377177596\n",
            "epoch 289, loss 0.0013844820205122232\n",
            "epoch 290, loss 0.001360301743261516\n",
            "epoch 291, loss 0.0014914643252268434\n",
            "epoch 292, loss 0.0013870488619431853\n",
            "epoch 293, loss 0.0014519979013130069\n",
            "epoch 294, loss 0.001701032160781324\n",
            "epoch 295, loss 0.0014253915287554264\n",
            "epoch 296, loss 0.001422730041667819\n",
            "epoch 297, loss 0.0015571892727166414\n",
            "epoch 298, loss 0.0014293723506852984\n",
            "epoch 299, loss 0.0014751723501831293\n"
          ]
        }
      ]
    },
    {
      "cell_type": "code",
      "metadata": {
        "id": "7jxit4ppO9Q4",
        "colab": {
          "base_uri": "https://localhost:8080/"
        },
        "outputId": "dccae52e-b857-4594-8215-536629f3f57c"
      },
      "source": [
        "rnn.out.weight "
      ],
      "execution_count": 12,
      "outputs": [
        {
          "output_type": "execute_result",
          "data": {
            "text/plain": [
              "Parameter containing:\n",
              "tensor([[-0.0212, -0.0836,  0.0686,  0.0704,  0.0163,  0.0565, -0.1026,  0.1048,\n",
              "          0.0977, -0.0256, -0.0320,  0.0048,  0.0993, -0.0163, -0.0868, -0.0156,\n",
              "          0.0126,  0.0700,  0.0349,  0.0939,  0.0094, -0.0276,  0.0281, -0.0691,\n",
              "         -0.0421, -0.0376, -0.0709, -0.0091, -0.1121,  0.0023, -0.0286, -0.0356,\n",
              "         -0.0134,  0.1032, -0.1104,  0.0699,  0.0837,  0.1303,  0.0738,  0.0658,\n",
              "          0.0791, -0.0411, -0.1078,  0.0075, -0.0259, -0.0983,  0.0886, -0.0752,\n",
              "         -0.0538,  0.0552, -0.0647,  0.0618,  0.0055,  0.1306, -0.1032,  0.0993,\n",
              "          0.0934, -0.0012,  0.0713,  0.0526, -0.0312,  0.0364, -0.0813,  0.0302]],\n",
              "       device='cuda:0', requires_grad=True)"
            ]
          },
          "metadata": {},
          "execution_count": 12
        }
      ]
    },
    {
      "cell_type": "code",
      "metadata": {
        "id": "4SysHfTsOtPz",
        "colab": {
          "base_uri": "https://localhost:8080/"
        },
        "outputId": "583cc1f0-5292-45af-8b63-9549157143be"
      },
      "source": [
        "for param in rnn.parameters():\n",
        "    print(param.data)"
      ],
      "execution_count": 13,
      "outputs": [
        {
          "output_type": "stream",
          "name": "stdout",
          "text": [
            "tensor([[-0.0087,  0.0160, -0.0626,  ..., -0.0967,  0.1167,  0.0867],\n",
            "        [-0.0157, -0.0842,  0.1000,  ...,  0.0235,  0.1646,  0.1706],\n",
            "        [-0.0731,  0.0912, -0.0785,  ...,  0.0660, -0.1063, -0.0340],\n",
            "        ...,\n",
            "        [ 0.0010,  0.0511, -0.0398,  ...,  0.1405,  0.0073, -0.0172],\n",
            "        [-0.0524, -0.0801,  0.1363,  ...,  0.1069, -0.0438, -0.0570],\n",
            "        [-0.0237, -0.0967,  0.1501,  ...,  0.1449,  0.0312,  0.0102]],\n",
            "       device='cuda:0')\n",
            "tensor([[ 0.1257, -0.1055, -0.0998,  ...,  0.1061, -0.0139, -0.0919],\n",
            "        [ 0.0367,  0.1361,  0.0142,  ...,  0.0462, -0.0695,  0.0695],\n",
            "        [-0.0696, -0.0083,  0.1057,  ...,  0.0596,  0.0567,  0.0559],\n",
            "        ...,\n",
            "        [ 0.1396, -0.0911, -0.0110,  ..., -0.0757,  0.0619, -0.0616],\n",
            "        [ 0.0740,  0.0991,  0.0720,  ...,  0.0886, -0.1367, -0.1023],\n",
            "        [-0.0110,  0.1082,  0.0554,  ...,  0.0135, -0.1400, -0.0729]],\n",
            "       device='cuda:0')\n",
            "tensor([ 0.0800,  0.0224,  0.0273, -0.1056, -0.0069, -0.1057,  0.0907, -0.0587,\n",
            "        -0.0911, -0.1044, -0.0446,  0.0558,  0.1290, -0.0546, -0.0811, -0.0347,\n",
            "         0.0931,  0.1022,  0.1167,  0.0890,  0.1396, -0.0347,  0.0625, -0.0967,\n",
            "         0.0751,  0.0539, -0.1247,  0.0589, -0.0805,  0.0326, -0.0386,  0.0303,\n",
            "         0.1323,  0.0051, -0.0763,  0.1741, -0.0196,  0.0117, -0.1229,  0.1144,\n",
            "        -0.0252, -0.1169,  0.1156, -0.0269,  0.1246,  0.0363, -0.0106,  0.0029,\n",
            "         0.0543, -0.0647,  0.1203,  0.0806, -0.0644,  0.1059, -0.0542, -0.0067,\n",
            "        -0.0988, -0.0902,  0.1017,  0.0378,  0.0246,  0.0083, -0.0128,  0.0943,\n",
            "         0.0848,  0.0966, -0.0168,  0.0199, -0.0357,  0.0246, -0.0451,  0.0632,\n",
            "         0.0434,  0.0534,  0.0157,  0.0281, -0.0259,  0.0618,  0.0447, -0.0803,\n",
            "         0.0734, -0.0196,  0.0191,  0.1034,  0.0936, -0.1220,  0.0869,  0.0642,\n",
            "         0.0468,  0.0177,  0.0150,  0.0774, -0.1086, -0.0606, -0.0023,  0.1062,\n",
            "         0.0046,  0.0632, -0.0730, -0.0666,  0.1190,  0.0161, -0.0215,  0.0506,\n",
            "         0.0972,  0.0406,  0.0850,  0.0811,  0.0282, -0.0623,  0.0980, -0.0880,\n",
            "        -0.0656, -0.0044, -0.0978, -0.0421, -0.0344, -0.0382, -0.0686,  0.0964,\n",
            "         0.0891,  0.0040, -0.0052,  0.0854,  0.0169, -0.0868,  0.0714, -0.0923,\n",
            "         0.0985,  0.0022,  0.0602, -0.0536, -0.0046, -0.0888,  0.0856, -0.0927,\n",
            "         0.0370,  0.0319,  0.0043,  0.0774, -0.1219, -0.0647, -0.1167,  0.0680,\n",
            "         0.1023,  0.0118,  0.0212,  0.0487, -0.0650,  0.1272, -0.0311, -0.0826,\n",
            "         0.0924,  0.0109, -0.0062,  0.0454, -0.0224,  0.0323, -0.0216, -0.0769,\n",
            "        -0.0313,  0.0960, -0.0799, -0.0907, -0.0025, -0.1155,  0.0147,  0.1223,\n",
            "         0.0138,  0.0925, -0.0112,  0.0420,  0.0041,  0.0371,  0.0905,  0.0252,\n",
            "        -0.0684, -0.0817,  0.0051,  0.1084,  0.0412, -0.1209,  0.0234, -0.0320,\n",
            "         0.0910,  0.1024,  0.0086, -0.1232, -0.0500, -0.0100, -0.0177,  0.0917,\n",
            "        -0.0843,  0.1484,  0.0715,  0.1353, -0.0480,  0.0647,  0.0076,  0.0162,\n",
            "         0.1054,  0.0381, -0.0886,  0.0393,  0.0920, -0.1023,  0.0571,  0.0055,\n",
            "         0.0524,  0.0634,  0.0172,  0.0524,  0.0345,  0.1169,  0.0888,  0.0060,\n",
            "         0.0679,  0.0078,  0.0870,  0.0023, -0.0824, -0.0599, -0.0270, -0.0067,\n",
            "         0.0715, -0.0601,  0.0411,  0.0270, -0.0695, -0.0377,  0.0898, -0.0356,\n",
            "        -0.0218, -0.1270,  0.0733, -0.0089, -0.0729, -0.0636,  0.0979, -0.0052,\n",
            "        -0.0304, -0.0216, -0.0188,  0.0523,  0.0023,  0.0875,  0.0359, -0.0505,\n",
            "        -0.1025,  0.0788,  0.0017,  0.0097, -0.0431, -0.0879,  0.0017, -0.0726],\n",
            "       device='cuda:0')\n",
            "tensor([-4.2338e-02, -8.4341e-02,  4.9072e-02,  8.0458e-02,  6.8688e-03,\n",
            "         5.7174e-02, -1.2913e-03,  6.5280e-02,  6.1243e-02, -8.7926e-02,\n",
            "        -7.3725e-02, -1.1297e-01, -7.3063e-02,  1.0997e-01, -8.5006e-02,\n",
            "         8.5685e-02,  1.3353e-01,  4.5371e-02,  1.0646e-01, -8.9845e-02,\n",
            "         1.4816e-01, -8.8914e-02,  9.6692e-02, -5.4584e-02, -9.3913e-02,\n",
            "         3.3200e-02,  2.1492e-02, -3.6755e-02, -4.7809e-02,  1.0984e-01,\n",
            "         1.0892e-01, -5.2887e-02,  6.3634e-05,  8.8699e-02, -1.0450e-01,\n",
            "         1.1810e-01,  1.0157e-01,  7.5418e-02, -5.5738e-02,  4.8754e-02,\n",
            "         1.1231e-01,  6.8321e-02, -7.2995e-02,  7.7138e-02, -1.9042e-02,\n",
            "         3.6970e-02, -7.4891e-02,  8.0031e-02,  2.9496e-02, -7.8696e-02,\n",
            "         8.5692e-02, -7.4032e-02,  6.9162e-02, -5.1958e-04,  1.1766e-01,\n",
            "        -5.2813e-02,  7.1196e-02,  1.2873e-01, -3.1049e-02, -2.8204e-02,\n",
            "        -2.8122e-02, -7.9083e-02,  7.4060e-03,  1.9816e-02, -1.0276e-01,\n",
            "        -7.5766e-02, -2.0487e-02,  1.0764e-01, -8.5683e-02, -3.7962e-02,\n",
            "        -9.0501e-02,  6.8014e-02,  1.1389e-01,  1.2660e-01, -3.3974e-02,\n",
            "        -1.4388e-02,  8.2214e-03, -8.1056e-02,  3.3549e-03,  3.4843e-02,\n",
            "         1.2801e-01,  5.5503e-02, -9.0747e-02,  3.8216e-02,  8.4897e-02,\n",
            "        -1.1023e-01,  8.9673e-02,  5.1093e-02, -2.2659e-02, -9.7928e-02,\n",
            "        -8.9386e-02,  3.7184e-02,  8.0058e-02,  4.1405e-03, -7.7384e-02,\n",
            "        -9.4861e-02,  4.5837e-02,  8.2586e-03,  6.6893e-02,  4.6236e-03,\n",
            "        -2.7228e-02, -4.6803e-02,  7.3891e-02, -5.0589e-02,  1.0173e-01,\n",
            "         9.7497e-02, -8.3617e-02, -4.5319e-02,  6.6305e-02,  9.8352e-02,\n",
            "        -7.4701e-02,  5.0153e-03,  8.3041e-02, -1.1380e-01,  5.7831e-02,\n",
            "        -1.3610e-02,  2.5272e-02, -9.6944e-02, -5.5767e-02, -1.1436e-01,\n",
            "         1.0214e-01,  6.2491e-02,  1.2092e-01,  1.0732e-01, -5.4566e-02,\n",
            "         1.2165e-01,  1.1167e-01,  1.0225e-01, -1.2388e-01, -3.8633e-02,\n",
            "         4.1520e-02,  6.0820e-02, -1.1626e-01, -9.0298e-02,  1.0750e-01,\n",
            "         4.5961e-02,  8.6099e-02, -1.0647e-01,  1.0713e-01,  4.6098e-02,\n",
            "         1.1185e-01, -5.3100e-02, -7.9368e-02,  9.2688e-02, -9.6837e-02,\n",
            "        -1.2496e-01, -9.3430e-02,  8.3755e-02,  1.2234e-01,  9.6391e-02,\n",
            "         7.2612e-02,  6.7579e-02, -8.5654e-02, -1.6243e-02, -5.1198e-02,\n",
            "         1.9164e-02, -2.2203e-02, -1.7815e-02, -3.2207e-03, -6.6880e-02,\n",
            "         2.6538e-02, -8.0554e-03,  6.2314e-02, -9.4787e-02, -2.5571e-02,\n",
            "         4.7886e-02,  2.3286e-02, -1.2032e-01, -4.0701e-02,  7.7457e-02,\n",
            "        -7.3437e-02, -1.3144e-01, -6.2180e-02, -9.0418e-02, -9.7015e-02,\n",
            "        -1.6741e-02,  1.1013e-01,  1.4448e-02,  1.6790e-02, -1.0778e-01,\n",
            "         1.0875e-01,  6.2355e-02,  6.3750e-02, -7.1437e-02,  3.2819e-03,\n",
            "        -8.0950e-02,  1.9661e-02,  7.3046e-02,  9.6208e-02,  6.6626e-02,\n",
            "         2.9962e-02,  2.8238e-02, -5.5012e-03, -3.9028e-02, -1.6418e-02,\n",
            "         8.7006e-02, -6.7378e-02,  5.5005e-03,  4.6885e-03,  7.6185e-02,\n",
            "         1.6444e-02, -8.1970e-02,  6.7818e-02, -6.7844e-02,  1.4226e-02,\n",
            "        -1.0909e-01,  4.9445e-02, -6.3826e-02, -8.2218e-02, -7.7195e-02,\n",
            "        -9.9884e-02, -1.1449e-01,  8.3164e-02,  9.1508e-02, -5.1865e-02,\n",
            "        -4.8863e-03,  6.8375e-02, -6.0611e-02, -9.0948e-03, -2.8297e-02,\n",
            "        -9.3833e-02,  1.1328e-01, -2.0439e-02,  7.5365e-02,  6.0072e-02,\n",
            "         5.8619e-02,  2.7639e-03,  1.8560e-01,  6.6002e-02,  9.0582e-02,\n",
            "         3.3000e-02,  4.6617e-02,  1.2807e-01,  7.9913e-03, -6.0019e-02,\n",
            "        -7.8673e-02,  1.7914e-02,  1.2047e-01,  1.2274e-01, -2.1653e-02,\n",
            "        -6.9714e-02, -6.5870e-02, -5.9650e-03,  1.2688e-01, -3.6780e-02,\n",
            "        -9.7502e-02, -4.6220e-02, -7.8606e-02, -1.1328e-01,  8.1887e-02,\n",
            "         5.2046e-03, -7.5853e-02,  6.8847e-02,  7.4374e-02,  4.3830e-02,\n",
            "         1.8758e-02], device='cuda:0')\n",
            "tensor([[-0.0326, -0.1218, -0.0865,  ...,  0.0171, -0.0747,  0.0375],\n",
            "        [ 0.0987,  0.0384,  0.0144,  ...,  0.1436, -0.0939, -0.0098],\n",
            "        [ 0.0308,  0.0212, -0.0298,  ..., -0.0890,  0.1153, -0.0566],\n",
            "        ...,\n",
            "        [-0.0396, -0.0188,  0.0156,  ...,  0.0568, -0.0419,  0.0923],\n",
            "        [-0.0429,  0.0020,  0.0395,  ..., -0.0761, -0.0225,  0.0963],\n",
            "        [-0.0366,  0.0522, -0.0362,  ...,  0.0832, -0.0227, -0.0411]],\n",
            "       device='cuda:0')\n",
            "tensor([[-0.1678, -0.1262, -0.0438,  ..., -0.0386,  0.0117,  0.0119],\n",
            "        [ 0.0538, -0.0179,  0.0345,  ...,  0.0516,  0.1399, -0.0903],\n",
            "        [-0.0293,  0.1233, -0.0728,  ..., -0.0828,  0.0512,  0.1297],\n",
            "        ...,\n",
            "        [ 0.0014, -0.0918, -0.1113,  ..., -0.0991, -0.1276, -0.0029],\n",
            "        [-0.0816, -0.0613,  0.1090,  ..., -0.1044, -0.0367, -0.0331],\n",
            "        [-0.0140,  0.0626, -0.0958,  ..., -0.0105, -0.0744, -0.0397]],\n",
            "       device='cuda:0')\n",
            "tensor([ 0.1198, -0.0156, -0.0846, -0.0421, -0.0835, -0.0253, -0.0973,  0.0573,\n",
            "         0.0477,  0.0863, -0.0524, -0.0533,  0.0146,  0.0811, -0.0055, -0.0203,\n",
            "        -0.0680,  0.0635,  0.0126,  0.0023, -0.0524,  0.0158,  0.0264,  0.0081,\n",
            "         0.0647,  0.0205, -0.0067,  0.0539,  0.0342, -0.0507, -0.0771, -0.0991,\n",
            "         0.1215, -0.0976,  0.0605,  0.0926, -0.0826,  0.0366, -0.0552, -0.1285,\n",
            "        -0.0752,  0.0569, -0.0522, -0.0199,  0.0031,  0.0313,  0.1219, -0.0603,\n",
            "        -0.0596,  0.0418, -0.0055, -0.0937,  0.0518,  0.0221, -0.0664, -0.1074,\n",
            "         0.0025,  0.0171,  0.0276,  0.0468,  0.1022,  0.0489, -0.0779,  0.0471,\n",
            "         0.0104, -0.0264,  0.0389,  0.0529,  0.0042, -0.0276, -0.1253, -0.0721,\n",
            "        -0.0515,  0.0514, -0.1093,  0.1111, -0.0179,  0.0268, -0.0924, -0.0878,\n",
            "         0.1233, -0.0360, -0.0516, -0.0028, -0.0031,  0.0443, -0.0440, -0.0344,\n",
            "        -0.0526, -0.0454,  0.0165,  0.0956, -0.1076, -0.0066, -0.0599, -0.0438,\n",
            "        -0.0121, -0.0703,  0.0990,  0.0002, -0.0366, -0.0626,  0.0100,  0.0822,\n",
            "        -0.0229,  0.0980,  0.0975, -0.0913, -0.1186,  0.1357,  0.0678, -0.0977,\n",
            "        -0.0810,  0.0190,  0.0012,  0.0471,  0.0995,  0.0850, -0.0629, -0.0872,\n",
            "        -0.0321, -0.0810,  0.0119, -0.0006,  0.0503, -0.0241,  0.0655, -0.1018,\n",
            "         0.0888, -0.0473, -0.0619, -0.0802,  0.0434, -0.0963,  0.0458, -0.0679,\n",
            "         0.0450, -0.0932, -0.1117,  0.1061, -0.1137,  0.0774,  0.0897,  0.0008,\n",
            "        -0.0120, -0.0802, -0.0332,  0.0097,  0.0967,  0.1075,  0.0556,  0.0100,\n",
            "         0.1036,  0.0129,  0.1178,  0.0054,  0.0581, -0.0885, -0.0333,  0.0651,\n",
            "         0.0817, -0.0471, -0.0525,  0.1020, -0.0017, -0.1011, -0.0382,  0.1042,\n",
            "         0.1000,  0.0642, -0.0186, -0.1314, -0.0396, -0.0424, -0.1014,  0.0897,\n",
            "         0.0553,  0.0037, -0.1258,  0.0427,  0.0298,  0.0858,  0.0513,  0.0317,\n",
            "        -0.0504,  0.0167, -0.0278,  0.0325, -0.0880,  0.0436, -0.0808,  0.0242,\n",
            "         0.0440,  0.0237,  0.0269,  0.0658,  0.0571, -0.0976, -0.0018,  0.1555,\n",
            "         0.0448,  0.0426,  0.0145, -0.1084, -0.1179,  0.0126,  0.1286,  0.0756,\n",
            "         0.0011, -0.0306, -0.1335,  0.0351,  0.0609,  0.0109, -0.0626, -0.0117,\n",
            "        -0.0450,  0.0209, -0.0352,  0.0626,  0.0865,  0.0012, -0.0312,  0.0006,\n",
            "         0.1316,  0.0927,  0.0689, -0.1203, -0.1246,  0.0662, -0.0508, -0.0669,\n",
            "        -0.0809, -0.1250,  0.1155, -0.0385, -0.0784, -0.0690,  0.0019, -0.1108,\n",
            "         0.0259,  0.0718,  0.0215, -0.0933, -0.1103, -0.1291, -0.0118,  0.0184,\n",
            "         0.0669,  0.0155,  0.0125, -0.0636, -0.0686,  0.0596,  0.0117, -0.0979],\n",
            "       device='cuda:0')\n",
            "tensor([ 5.7940e-02, -2.1118e-02,  9.7630e-02, -4.0553e-02, -7.0730e-03,\n",
            "        -1.2586e-01,  5.2758e-03, -2.4612e-02,  3.5402e-02, -4.2057e-02,\n",
            "         3.2704e-02,  1.1880e-01, -2.9397e-02, -3.5493e-02,  7.5208e-03,\n",
            "        -1.1565e-02, -6.5897e-02, -7.8606e-03, -3.4751e-02,  1.0609e-01,\n",
            "         6.9103e-02, -1.0165e-01, -3.5030e-02, -7.8240e-02,  9.9489e-02,\n",
            "         1.0689e-01, -1.0321e-01, -3.1031e-02, -8.8664e-02,  2.0698e-02,\n",
            "        -9.4708e-03, -9.2633e-02, -1.0678e-01,  8.4421e-02,  7.6623e-02,\n",
            "        -9.4590e-02, -6.8790e-02,  2.5600e-02, -3.9389e-02,  6.0429e-02,\n",
            "        -1.1125e-01, -1.1502e-01,  6.3009e-02,  1.0144e-01,  8.2416e-02,\n",
            "         4.2999e-04, -6.9898e-02,  4.7708e-02,  6.5006e-02,  3.7910e-02,\n",
            "         9.6342e-02,  1.0427e-01,  5.9981e-03,  5.9388e-02,  8.1776e-02,\n",
            "        -7.0085e-02,  4.2571e-02,  3.5406e-02,  9.4898e-02,  3.0361e-02,\n",
            "        -9.5523e-02, -8.7246e-02, -9.5822e-02,  9.9782e-02, -1.4713e-02,\n",
            "         6.0602e-02,  7.4269e-02,  4.6239e-02, -1.4383e-02,  5.3580e-02,\n",
            "        -1.2260e-01,  1.3608e-01, -1.2208e-02, -7.6861e-02,  4.5994e-02,\n",
            "        -6.0786e-02, -9.1632e-02, -3.1030e-02,  4.7654e-02,  7.4151e-02,\n",
            "        -9.0969e-03,  1.9207e-02,  3.5424e-02, -1.0960e-01, -1.0669e-02,\n",
            "         7.4542e-03, -5.0948e-02,  3.2951e-02, -5.2712e-02,  5.0892e-02,\n",
            "         1.1202e-01, -3.7410e-02, -1.5999e-02,  7.1934e-02, -9.4260e-02,\n",
            "         5.7048e-02, -8.5449e-02, -8.4595e-02, -5.7995e-02, -1.0648e-01,\n",
            "         3.4516e-03, -9.6191e-02,  4.9485e-02,  4.3195e-02, -3.2991e-05,\n",
            "        -1.0872e-01, -3.1918e-02, -3.4108e-02, -6.8660e-03, -4.7920e-03,\n",
            "        -1.7836e-02, -1.2814e-01, -9.9374e-02,  8.4433e-02, -1.0703e-01,\n",
            "         1.2264e-01, -6.7756e-02, -1.0803e-01, -2.5940e-02,  1.2561e-01,\n",
            "        -4.1813e-02, -8.1699e-02, -1.1728e-01, -6.1439e-02, -7.7772e-02,\n",
            "        -8.1959e-02, -9.1993e-03,  8.3146e-02, -1.2824e-01,  5.4023e-02,\n",
            "        -1.1774e-01,  9.2634e-02, -9.8511e-02, -2.9950e-02,  4.8508e-03,\n",
            "         1.3721e-01,  3.2228e-02,  3.1035e-03,  1.1039e-01,  9.8265e-02,\n",
            "        -9.8731e-02,  1.5846e-02, -1.1889e-02,  5.2920e-02,  1.0393e-02,\n",
            "         1.2302e-01, -8.8543e-02,  9.7130e-02, -3.8546e-02, -6.3752e-02,\n",
            "        -9.5671e-02,  2.5766e-02, -1.0444e-01,  1.5318e-02, -7.9647e-02,\n",
            "        -2.4122e-03,  2.3610e-02, -1.0952e-02,  9.0847e-02, -4.8671e-02,\n",
            "         8.7624e-02,  1.2197e-01,  5.7287e-02,  4.8200e-02, -2.4291e-02,\n",
            "        -9.6745e-02, -9.8534e-02,  5.9880e-02, -9.8253e-02, -4.4694e-02,\n",
            "         2.7429e-02,  8.1485e-02,  7.6778e-02, -2.7408e-02,  1.3657e-02,\n",
            "         9.4967e-02,  1.2555e-01, -1.1303e-01, -8.7103e-02,  3.5914e-02,\n",
            "        -1.0069e-01, -5.4091e-02,  1.6278e-02,  5.3237e-02,  1.5185e-02,\n",
            "         4.2027e-02,  3.3706e-02, -8.4913e-02, -3.6540e-02,  4.5026e-02,\n",
            "        -1.4396e-02,  4.0308e-02,  9.1619e-02,  6.1970e-02, -1.0947e-01,\n",
            "        -7.2218e-02, -7.0911e-02,  1.0336e-01, -3.9765e-02, -4.3515e-02,\n",
            "        -4.0702e-02, -1.5065e-03, -9.7689e-02, -9.2199e-02, -1.0995e-02,\n",
            "        -8.9600e-02, -4.6181e-02, -1.1350e-01,  7.7405e-02, -2.7688e-02,\n",
            "         9.5093e-04, -9.6809e-02, -5.6262e-02,  1.0391e-01, -3.5405e-02,\n",
            "         6.4722e-02, -8.7340e-02,  2.8154e-02,  1.0238e-01,  6.8864e-02,\n",
            "        -3.6764e-02, -3.8405e-02,  8.6278e-02,  3.6956e-02,  1.3183e-01,\n",
            "         6.4463e-02, -6.6492e-02, -3.1588e-02, -6.8075e-02,  3.8570e-02,\n",
            "         1.5788e-01,  9.5986e-02, -2.2807e-03,  3.1429e-02, -9.6305e-02,\n",
            "         1.9921e-02,  4.0733e-02, -8.3746e-02,  2.4833e-02,  1.0237e-01,\n",
            "         1.0772e-01,  1.1642e-01,  1.2512e-01, -1.1332e-01,  2.7270e-02,\n",
            "        -1.8864e-02,  6.2042e-02, -7.0785e-03, -8.1195e-02, -6.8685e-02,\n",
            "         5.7170e-02,  4.6936e-02, -3.5019e-02,  7.8443e-02, -7.3224e-02,\n",
            "        -5.3326e-02], device='cuda:0')\n",
            "tensor([[-0.0104, -0.1059, -0.0041,  ..., -0.0671,  0.0850, -0.0035],\n",
            "        [ 0.0054, -0.0208,  0.0331,  ...,  0.0211,  0.1058,  0.0487],\n",
            "        [-0.0348,  0.0630,  0.0487,  ...,  0.0983,  0.0971, -0.1070],\n",
            "        ...,\n",
            "        [-0.0830,  0.1239, -0.0239,  ..., -0.0180,  0.0280,  0.0850],\n",
            "        [ 0.0679,  0.1017,  0.0205,  ..., -0.0994,  0.1094,  0.0487],\n",
            "        [-0.0393,  0.0452,  0.0908,  ...,  0.0009,  0.1042,  0.1135]],\n",
            "       device='cuda:0')\n",
            "tensor([[-0.0251,  0.0688, -0.0467,  ..., -0.0096, -0.0170,  0.0476],\n",
            "        [-0.0423, -0.0544,  0.0660,  ..., -0.0366,  0.0899,  0.0138],\n",
            "        [ 0.0449,  0.0913,  0.0969,  ..., -0.0799,  0.0037, -0.1177],\n",
            "        ...,\n",
            "        [-0.0657, -0.0301,  0.1049,  ...,  0.1138,  0.1055, -0.0418],\n",
            "        [ 0.0974,  0.0249,  0.1275,  ...,  0.0897,  0.1078,  0.0447],\n",
            "        [-0.0763, -0.0291, -0.0234,  ..., -0.0212, -0.1156,  0.0520]],\n",
            "       device='cuda:0')\n",
            "tensor([ 0.0771,  0.0866,  0.0338,  0.0888,  0.0991,  0.0112,  0.0298, -0.1229,\n",
            "        -0.0394,  0.0149,  0.0875, -0.0172,  0.0648,  0.0598, -0.0082,  0.0180,\n",
            "        -0.0388,  0.0480, -0.0648, -0.0566,  0.0833, -0.0488, -0.0054, -0.0559,\n",
            "         0.1191, -0.1220,  0.1080,  0.1020, -0.1183, -0.0800,  0.0660, -0.0573,\n",
            "        -0.0458, -0.0653,  0.0807,  0.1240, -0.0643, -0.1150,  0.0427,  0.1270,\n",
            "         0.0529,  0.0303, -0.1089, -0.1027, -0.0602, -0.0647, -0.0862, -0.0193,\n",
            "        -0.0626,  0.0172,  0.1263,  0.1027, -0.0288,  0.1043, -0.0988, -0.0469,\n",
            "        -0.0950,  0.1075, -0.0785, -0.0924, -0.1372, -0.0287, -0.0958, -0.0830,\n",
            "        -0.1134,  0.1066,  0.0164,  0.0978,  0.0396, -0.0848, -0.0426,  0.0432,\n",
            "        -0.0859,  0.0164, -0.0764,  0.0088, -0.0523, -0.0754, -0.1122, -0.0692,\n",
            "        -0.0501, -0.1001, -0.0814,  0.0769,  0.0806,  0.0159, -0.1238,  0.1026,\n",
            "         0.0236, -0.0420, -0.0754,  0.0564, -0.0461, -0.1207, -0.1142, -0.0560,\n",
            "         0.1031,  0.1239,  0.0883,  0.0266,  0.0210,  0.0218, -0.0566,  0.0430,\n",
            "         0.0066,  0.0222, -0.0533,  0.0988,  0.0864, -0.0496, -0.0917,  0.1094,\n",
            "        -0.0038, -0.1040, -0.0359,  0.0963,  0.0899,  0.0960,  0.0556, -0.1100,\n",
            "         0.0843,  0.0241,  0.0436, -0.1015,  0.0596, -0.0779,  0.1052, -0.1098,\n",
            "         0.0120, -0.0748,  0.0844,  0.0089, -0.0143, -0.0668, -0.0708,  0.0481,\n",
            "        -0.0905, -0.0278, -0.0150, -0.1097,  0.1199, -0.0708, -0.0847,  0.0947,\n",
            "        -0.0238,  0.0968, -0.0347,  0.0685, -0.0811,  0.0685,  0.0630, -0.0664,\n",
            "        -0.0659,  0.0185,  0.0590,  0.0286, -0.0271, -0.1004,  0.0532,  0.0016,\n",
            "        -0.1264,  0.0398, -0.1050,  0.1181,  0.1066,  0.0738,  0.0097,  0.1055,\n",
            "         0.0413,  0.0194, -0.1107, -0.0451, -0.0668, -0.0529,  0.1167, -0.0434,\n",
            "         0.0484, -0.1092, -0.1087,  0.0938,  0.0136,  0.0356,  0.0191, -0.0804,\n",
            "        -0.0578,  0.0348,  0.0583,  0.0864,  0.0246, -0.0661, -0.1043, -0.0167,\n",
            "        -0.1217, -0.0114,  0.0728,  0.0755,  0.0247,  0.0271,  0.0944,  0.0632,\n",
            "        -0.0195,  0.1122, -0.1336,  0.0362,  0.0539,  0.0238, -0.1004,  0.0496,\n",
            "        -0.0921, -0.1297,  0.0650, -0.0095, -0.1083, -0.0859,  0.0357,  0.0362,\n",
            "         0.1316, -0.0197, -0.0443, -0.1232,  0.0306, -0.0356,  0.0612,  0.0453,\n",
            "        -0.0842, -0.0259,  0.0382,  0.0166,  0.0139,  0.0123,  0.0982, -0.0374,\n",
            "         0.0030,  0.0879, -0.1082,  0.1185, -0.0977,  0.1216, -0.0216, -0.0833,\n",
            "        -0.0082, -0.0809,  0.0915, -0.0404, -0.1159,  0.0340, -0.1085, -0.0694,\n",
            "         0.0886,  0.0887, -0.0117,  0.0749, -0.0548, -0.0812,  0.0413, -0.0410],\n",
            "       device='cuda:0')\n",
            "tensor([-1.4082e-01, -8.6945e-02,  1.2710e-01,  1.0896e-01, -6.8072e-02,\n",
            "         1.2463e-02, -8.6563e-02, -7.8414e-02, -1.0839e-01,  3.7428e-03,\n",
            "        -5.7448e-02, -1.3764e-01,  1.1743e-01, -8.0524e-02,  7.3828e-02,\n",
            "         3.7545e-02,  8.7611e-02,  4.4656e-02,  2.0249e-02,  1.1103e-01,\n",
            "         9.6218e-02, -9.1271e-02, -9.0159e-02, -1.1270e-01, -1.9198e-02,\n",
            "        -1.6752e-02,  1.3707e-02, -3.5693e-02, -5.5011e-02,  4.9498e-02,\n",
            "         2.1980e-02, -1.0944e-01,  7.0081e-02, -9.3752e-02,  7.5609e-02,\n",
            "         6.8430e-02,  1.0169e-01,  7.8023e-02, -1.7694e-02,  1.2483e-01,\n",
            "         5.0915e-02, -9.8207e-02,  9.5043e-02,  3.1957e-02, -8.6523e-03,\n",
            "         1.1442e-01, -6.8725e-02,  5.9296e-02, -6.8645e-02, -1.3302e-01,\n",
            "         1.0292e-01, -2.7725e-04, -6.1850e-02, -3.4203e-02, -9.3678e-02,\n",
            "        -2.9530e-02, -1.0630e-02, -5.2731e-02,  3.6387e-02,  4.1032e-02,\n",
            "        -1.1993e-01, -1.0468e-01,  3.4890e-02, -5.2814e-02, -8.1089e-02,\n",
            "         7.7699e-02, -4.0814e-02, -5.1274e-02,  7.2050e-02, -3.2001e-02,\n",
            "         1.2513e-01,  5.9428e-02,  1.0468e-01, -1.0755e-01, -1.3641e-01,\n",
            "         4.6212e-02,  1.0852e-01,  2.9491e-02, -7.7473e-02, -4.0208e-02,\n",
            "        -1.9806e-02, -1.2681e-01, -1.2986e-01,  7.0516e-02,  9.4873e-02,\n",
            "         5.2089e-02,  2.1168e-02,  1.1536e-02, -8.0123e-02,  9.7144e-02,\n",
            "        -8.4417e-02,  2.0149e-02, -9.8436e-02, -9.6369e-02, -5.4242e-04,\n",
            "        -8.7481e-02, -9.2285e-02, -6.3446e-03,  3.9889e-02,  6.8173e-02,\n",
            "         8.2192e-02,  2.4124e-02, -6.9265e-02, -6.2063e-02, -1.2770e-01,\n",
            "        -6.2120e-02,  7.4132e-02,  1.2337e-01,  7.4631e-03, -5.7987e-02,\n",
            "        -1.1995e-02, -7.8310e-02, -6.1953e-02,  4.0670e-02,  4.4747e-02,\n",
            "        -1.8741e-03, -2.7045e-02,  1.8374e-02, -6.7839e-02,  5.8412e-02,\n",
            "        -1.0540e-01, -1.2139e-01, -3.6113e-03,  1.1215e-01,  6.1954e-02,\n",
            "        -5.7159e-02, -2.9158e-02,  1.9315e-02,  9.5772e-02,  1.3945e-02,\n",
            "         8.8374e-03,  1.2950e-01, -2.2219e-02, -9.9832e-02, -9.4046e-02,\n",
            "        -4.6370e-02,  5.3968e-05,  4.2374e-03,  7.1810e-02, -1.1888e-02,\n",
            "         6.5280e-02, -3.4395e-02, -1.0629e-01, -1.1301e-01,  1.6128e-02,\n",
            "        -7.7013e-02,  1.1107e-02, -7.1783e-02,  1.0994e-01,  3.4872e-02,\n",
            "         2.2366e-02, -1.0880e-01, -5.2729e-02,  4.6751e-02, -9.4867e-02,\n",
            "         2.1055e-02,  9.9597e-02,  9.0465e-02,  9.7807e-02, -4.4446e-02,\n",
            "         9.0270e-02, -3.4623e-04,  8.6174e-02,  7.2402e-02, -9.1377e-02,\n",
            "        -9.5525e-02, -8.4518e-02,  3.7237e-02, -1.0444e-01,  1.7996e-02,\n",
            "         3.9352e-02,  4.5237e-02, -4.7957e-02, -2.8674e-02,  8.5282e-02,\n",
            "         1.0109e-01,  1.0610e-01,  1.9439e-02, -5.0904e-02,  7.4505e-03,\n",
            "        -1.0638e-01,  6.8869e-02, -5.4925e-02,  2.7598e-02, -6.7603e-02,\n",
            "        -8.1415e-02, -3.1040e-02,  3.9149e-02,  8.8125e-02, -1.2260e-03,\n",
            "        -1.2239e-01,  1.0062e-01, -4.8890e-02,  3.1694e-02, -9.8164e-03,\n",
            "        -8.2629e-02, -1.2887e-01,  3.2277e-02,  8.6983e-02,  7.9043e-02,\n",
            "        -2.9903e-02, -6.4932e-02, -1.1993e-01, -6.2436e-02, -3.1030e-04,\n",
            "         5.0511e-02,  1.1679e-01,  8.9382e-03, -1.5159e-02,  3.9174e-02,\n",
            "         2.9933e-02, -9.8621e-02, -7.6346e-02, -1.3054e-01, -2.4119e-02,\n",
            "        -1.0501e-01, -4.3004e-02, -2.9836e-02,  1.3216e-02, -2.0821e-03,\n",
            "        -7.7678e-02, -8.7843e-02,  5.1586e-02,  7.3751e-02,  3.9782e-02,\n",
            "         8.7558e-02, -4.7217e-02, -1.0613e-01, -6.2423e-02,  3.0063e-02,\n",
            "         2.1054e-02,  1.2710e-01, -2.7854e-02, -5.9024e-02,  3.9971e-02,\n",
            "        -7.4823e-02,  8.7985e-02,  1.3336e-01, -1.0556e-01,  3.2516e-02,\n",
            "        -8.9065e-02,  2.5098e-02, -3.2303e-02, -9.4709e-02, -1.2555e-01,\n",
            "         4.3172e-02, -6.3047e-02, -1.0122e-01, -3.1089e-02,  6.0080e-02,\n",
            "        -6.3454e-02,  7.0753e-02,  7.3633e-02, -2.8382e-02,  6.9360e-03,\n",
            "        -4.8370e-02], device='cuda:0')\n",
            "tensor([[-0.0212, -0.0836,  0.0686,  0.0704,  0.0163,  0.0565, -0.1026,  0.1048,\n",
            "          0.0977, -0.0256, -0.0320,  0.0048,  0.0993, -0.0163, -0.0868, -0.0156,\n",
            "          0.0126,  0.0700,  0.0349,  0.0939,  0.0094, -0.0276,  0.0281, -0.0691,\n",
            "         -0.0421, -0.0376, -0.0709, -0.0091, -0.1121,  0.0023, -0.0286, -0.0356,\n",
            "         -0.0134,  0.1032, -0.1104,  0.0699,  0.0837,  0.1303,  0.0738,  0.0658,\n",
            "          0.0791, -0.0411, -0.1078,  0.0075, -0.0259, -0.0983,  0.0886, -0.0752,\n",
            "         -0.0538,  0.0552, -0.0647,  0.0618,  0.0055,  0.1306, -0.1032,  0.0993,\n",
            "          0.0934, -0.0012,  0.0713,  0.0526, -0.0312,  0.0364, -0.0813,  0.0302]],\n",
            "       device='cuda:0')\n",
            "tensor([-0.0903], device='cuda:0')\n"
          ]
        }
      ]
    },
    {
      "cell_type": "markdown",
      "metadata": {
        "id": "PY0wF6e46-JE"
      },
      "source": [
        "## Step 5: Checking model performance\n",
        "\n",
        "With our model fit we can now make predictions on both our training and testing sets."
      ]
    },
    {
      "cell_type": "code",
      "metadata": {
        "id": "6dygBlig6_XD",
        "colab": {
          "base_uri": "https://localhost:8080/",
          "height": 286
        },
        "outputId": "c3ce3184-e3ff-46b3-c0a4-fb7c1a12f50e"
      },
      "source": [
        "plt.plot(history)\n",
        "# dplt.plot(history.history['val_loss'])"
      ],
      "execution_count": 14,
      "outputs": [
        {
          "output_type": "execute_result",
          "data": {
            "text/plain": [
              "[<matplotlib.lines.Line2D at 0x7f26bdfc1c50>]"
            ]
          },
          "metadata": {},
          "execution_count": 14
        },
        {
          "output_type": "display_data",
          "data": {
            "text/plain": [
              "<Figure size 432x288 with 1 Axes>"
            ],
            "image/png": "[encoded data removed]"
          },
          "metadata": {
            "needs_background": "light"
          }
        }
      ]
    },
    {
      "cell_type": "code",
      "metadata": {
        "id": "ScaBHhTv7Jih",
        "colab": {
          "base_uri": "https://localhost:8080/"
        },
        "outputId": "e0c69d23-cdc4-4394-9b26-d17fa3c78e20"
      },
      "source": [
        "X_test[0]"
      ],
      "execution_count": 15,
      "outputs": [
        {
          "output_type": "execute_result",
          "data": {
            "text/plain": [
              "array([[0.75733001, 0.74433354, 0.74433354, 0.73778332, 0.74246205,\n",
              "        0.74069453, 0.74474943]])"
            ]
          },
          "metadata": {},
          "execution_count": 15
        }
      ]
    },
    {
      "cell_type": "code",
      "metadata": {
        "id": "hyICDKXa7Vbe"
      },
      "source": [
        "# X_train_X_test = np.concatenate((X_train, X_test),axis=0)\n",
        "# hidden_state = None\n",
        "rnn.eval()\n",
        "# test_inputs = torch.tensor(X_test).float().cuda()\n",
        "test_predict, _ = rnn(X_test_cuda, hidden_state)\n",
        "test_predict_cpu = test_predict.cpu().detach().numpy()"
      ],
      "execution_count": 16,
      "outputs": []
    },
    {
      "cell_type": "code",
      "metadata": {
        "id": "FwD_e6VO-cIa",
        "colab": {
          "base_uri": "https://localhost:8080/"
        },
        "outputId": "627a7bf4-fa14-4398-ccfa-62c81f1cf46a"
      },
      "source": [
        "test_predict_cpu.shape"
      ],
      "execution_count": 17,
      "outputs": [
        {
          "output_type": "execute_result",
          "data": {
            "text/plain": [
              "(251, 1, 1)"
            ]
          },
          "metadata": {},
          "execution_count": 17
        }
      ]
    },
    {
      "cell_type": "code",
      "metadata": {
        "id": "c-__h1sU7kW6",
        "colab": {
          "base_uri": "https://localhost:8080/",
          "height": 285
        },
        "outputId": "5b9a8d6f-0a24-4544-884e-c2945b39debd"
      },
      "source": [
        "plt.plot(sc.inverse_transform(y_test.reshape(-1,1)))\n",
        "plt.plot(sc.inverse_transform(test_predict_cpu.reshape(-1,1)))"
      ],
      "execution_count": 18,
      "outputs": [
        {
          "output_type": "execute_result",
          "data": {
            "text/plain": [
              "[<matplotlib.lines.Line2D at 0x7f26c0f41a50>]"
            ]
          },
          "metadata": {},
          "execution_count": 18
        },
        {
          "output_type": "display_data",
          "data": {
            "text/plain": [
              "<Figure size 432x288 with 1 Axes>"
            ],
            "image/png": "[encoded data removed]"
          },
          "metadata": {
            "needs_background": "light"
          }
        }
      ]
    },
    {
      "cell_type": "code",
      "metadata": {
        "id": "LnMGQ5Sa8vMs",
        "colab": {
          "base_uri": "https://localhost:8080/",
          "height": 281
        },
        "outputId": "42142bfa-65ba-4acf-8387-8e5ffcb4b923"
      },
      "source": [
        "# plot original data\n",
        "plt.plot(sc.inverse_transform(y.reshape(-1,1)), color='k')\n",
        "\n",
        "# train_inputs = torch.tensor(X_train).float().cuda()\n",
        "train_pred, hidden_state = rnn(inputs_cuda, None)\n",
        "train_pred_cpu = train_pred.cpu().detach().numpy()\n",
        "\n",
        "# use hidden state from previous training data\n",
        "test_predict, _ = rnn(X_test_cuda, hidden_state)\n",
        "test_predict_cpu = test_predict.cpu().detach().numpy()\n",
        "\n",
        "# plt.plot(scl.inverse_transform(y_test.reshape(-1,1)))\n",
        "split_pt = int(X.shape[0] * 0.80) + 7 # window_size\n",
        "plt.plot(np.arange(7, split_pt, 1), sc.inverse_transform(train_pred_cpu.reshape(-1,1)), color='b')\n",
        "plt.plot(np.arange(split_pt, split_pt + len(test_predict_cpu), 1), sc.inverse_transform(test_predict_cpu.reshape(-1,1)), color='r')\n",
        "\n",
        "# pretty up graph\n",
        "plt.xlabel('day')\n",
        "plt.ylabel('price of MMM stock')\n",
        "plt.legend(['original series','training fit','testing fit'], loc='center left', bbox_to_anchor=(1, 0.5))\n",
        "plt.show()\n"
      ],
      "execution_count": 19,
      "outputs": [
        {
          "output_type": "display_data",
          "data": {
            "text/plain": [
              "<Figure size 432x288 with 1 Axes>"
            ],
            "image/png": "[encoded data removed]"
          },
          "metadata": {
            "needs_background": "light"
          }
        }
      ]
    }
  ]
}